{
  "nbformat": 4,
  "nbformat_minor": 0,
  "metadata": {
    "colab": {
      "provenance": [],
      "gpuType": "T4",
      "include_colab_link": true
    },
    "kernelspec": {
      "name": "python3",
      "display_name": "Python 3"
    },
    "language_info": {
      "name": "python"
    },
    "accelerator": "GPU"
  },
  "cells": [
    {
      "cell_type": "markdown",
      "metadata": {
        "id": "view-in-github",
        "colab_type": "text"
      },
      "source": [
        "<a href=\"https://colab.research.google.com/github/dbaca14/HelloWorld/blob/main/GAN.ipynb\" target=\"_parent\"><img src=\"https://colab.research.google.com/assets/colab-badge.svg\" alt=\"Open In Colab\"/></a>"
      ]
    },
    {
      "cell_type": "markdown",
      "source": [
        "**Author:** Dr. Shahriar Hossain <br>\n",
        "**Topic of the code:** Generative Adversarial Networks (GANs) <br>\n",
        "**Video explaining this code:** https://youtu.be/KQM6nuNsyhA <br>\n",
        "**My YT Channel:** https://www.youtube.com/@C4A <br>\n",
        "**Web:** https://computing4all.com/"
      ],
      "metadata": {
        "id": "eYJiU3CCVXgD"
      }
    },
    {
      "cell_type": "code",
      "execution_count": null,
      "metadata": {
        "id": "Sgs8ru76j_sN"
      },
      "outputs": [],
      "source": [
        "import torch\n",
        "import torch.nn as nn"
      ]
    },
    {
      "cell_type": "code",
      "source": [
        "# Check if CUDA (GPU) is available\n",
        "device = torch.device(\"cuda\" if torch.cuda.is_available() else \"cpu\")"
      ],
      "metadata": {
        "id": "JTJGWm7UkF9L"
      },
      "execution_count": null,
      "outputs": []
    },
    {
      "cell_type": "code",
      "source": [
        "# Number of data points\n",
        "n = 1000\n",
        "\n",
        "# Generate random data for the first column\n",
        "first_column = torch.rand(n, 1).to(device)\n",
        "\n",
        "# Create second and third columns based on the relationship\n",
        "second_column = 2 * first_column\n",
        "third_column = 2 * second_column\n",
        "\n",
        "# Combine columns to form data\n",
        "data = torch.cat([first_column, second_column, third_column], dim=1)"
      ],
      "metadata": {
        "id": "cJ5XxQMxkH8l"
      },
      "execution_count": null,
      "outputs": []
    },
    {
      "cell_type": "code",
      "source": [
        "# Generator\n",
        "class Generator(nn.Module):\n",
        "    def __init__(self):\n",
        "        super(Generator, self).__init__()\n",
        "        self.model = nn.Sequential(\n",
        "            nn.Linear(3, 50),\n",
        "            nn.ReLU(),\n",
        "            nn.Linear(50, 3)\n",
        "        )\n",
        "\n",
        "    def forward(self, x):\n",
        "        return self.model(x)\n",
        "\n"
      ],
      "metadata": {
        "id": "xGJL6pwukLIW"
      },
      "execution_count": null,
      "outputs": []
    },
    {
      "cell_type": "code",
      "source": [
        "# Discriminator\n",
        "class Discriminator(nn.Module):\n",
        "    def __init__(self):\n",
        "        super(Discriminator, self).__init__()\n",
        "        self.model = nn.Sequential(\n",
        "            nn.Linear(3, 50),\n",
        "            nn.ReLU(),\n",
        "            nn.Linear(50, 1),\n",
        "            nn.Sigmoid()\n",
        "        )\n",
        "\n",
        "    def forward(self, x):\n",
        "        return self.model(x)"
      ],
      "metadata": {
        "id": "29UB_G8kkOad"
      },
      "execution_count": null,
      "outputs": []
    },
    {
      "cell_type": "code",
      "source": [
        "# Initialize the models and move them to the device\n",
        "generator = Generator().to(device)\n",
        "discriminator = Discriminator().to(device)\n",
        "\n",
        "# Loss and optimizers\n",
        "criterion = nn.BCELoss()\n",
        "optimizer_g = torch.optim.Adam(generator.parameters(), lr=0.001)\n",
        "optimizer_d = torch.optim.Adam(discriminator.parameters(), lr=0.001)"
      ],
      "metadata": {
        "id": "nphFUks-kOte"
      },
      "execution_count": null,
      "outputs": []
    },
    {
      "cell_type": "code",
      "source": [
        "# Training the GAN\n",
        "num_epochs = 5000\n",
        "for epoch in range(num_epochs):\n",
        "    # Train discriminator\n",
        "    optimizer_d.zero_grad()\n",
        "\n",
        "    real_data = data\n",
        "    real_labels = torch.ones(n, 1).to(device)\n",
        "    outputs = discriminator(real_data)\n",
        "    d_loss_real = criterion(outputs, real_labels)\n",
        "\n",
        "    # Generate fake data\n",
        "    noise = torch.randn(n, 3).to(device)\n",
        "    fake_data = generator(noise)\n",
        "    fake_labels = torch.zeros(n, 1).to(device)\n",
        "    outputs = discriminator(fake_data.detach())\n",
        "    d_loss_fake = criterion(outputs, fake_labels)\n",
        "\n",
        "    # Backprop and optimize\n",
        "    d_loss = d_loss_real + d_loss_fake\n",
        "    d_loss.backward()\n",
        "    optimizer_d.step()\n",
        "\n",
        "    # Train generator\n",
        "    optimizer_g.zero_grad()\n",
        "    outputs = discriminator(fake_data)\n",
        "    g_loss = criterion(outputs, real_labels)\n",
        "    g_loss.backward()\n",
        "    optimizer_g.step()\n",
        "\n",
        "    # Print losses\n",
        "    if (epoch+1) % 1000 == 0:\n",
        "        print(f\"Epoch [{epoch+1}/{num_epochs}], d_loss: {d_loss.item():.4f}, g_loss: {g_loss.item():.4f}\")"
      ],
      "metadata": {
        "colab": {
          "base_uri": "https://localhost:8080/"
        },
        "id": "NMQEq7L4kSnG",
        "outputId": "961bb154-2efc-44df-f42f-0989cde6f90c"
      },
      "execution_count": null,
      "outputs": [
        {
          "output_type": "stream",
          "name": "stdout",
          "text": [
            "Epoch [1000/5000], d_loss: 1.3725, g_loss: 0.7287\n",
            "Epoch [2000/5000], d_loss: 1.3857, g_loss: 0.6946\n",
            "Epoch [3000/5000], d_loss: 1.3976, g_loss: 0.7422\n",
            "Epoch [4000/5000], d_loss: 1.3752, g_loss: 0.7155\n",
            "Epoch [5000/5000], d_loss: 1.3852, g_loss: 0.7068\n"
          ]
        }
      ]
    },
    {
      "cell_type": "code",
      "source": [
        "# After training, generate some synthetic data\n",
        "with torch.no_grad():\n",
        "    test_noise = torch.randn(n, 3).to(device)\n",
        "    generated_data = generator(test_noise).cpu().numpy()\n",
        "\n",
        "# Print the first 10 rows of generated data\n",
        "print(\"Generated Data (First 10 rows):\")\n",
        "for i in range(10):\n",
        "    print(generated_data[i])\n",
        "\n",
        "# To validate if relationships hold:\n",
        "print(\"\\nValidation (For the first 10 rows):\")\n",
        "for i in range(10):\n",
        "    print(f\"First: {generated_data[i][0]:.4f}, Expected Second: {2*generated_data[i][0]:.4f}, Actual Second: {generated_data[i][1]:.4f}\")\n",
        "    print(f\"Second: {generated_data[i][1]:.4f}, Expected Third: {2*generated_data[i][1]:.4f}, Actual Third: {generated_data[i][2]:.4f}\\n\")"
      ],
      "metadata": {
        "colab": {
          "base_uri": "https://localhost:8080/"
        },
        "id": "iDY9jbnbkVlu",
        "outputId": "6ea6223f-d791-4236-8253-4b56d9830f9c"
      },
      "execution_count": null,
      "outputs": [
        {
          "output_type": "stream",
          "name": "stdout",
          "text": [
            "Generated Data (First 10 rows):\n",
            "[0.7998012 1.660021  3.272396 ]\n",
            "[0.37646177 0.76541066 1.5088928 ]\n",
            "[0.40255162 0.83344334 1.6348023 ]\n",
            "[0.1653687  0.34263033 0.6740363 ]\n",
            "[0.5665213 1.1526009 2.2760208]\n",
            "[0.14940399 0.3152167  0.62877667]\n",
            "[0.80187684 1.660417   3.2814188 ]\n",
            "[0.1325277  0.27246606 0.5379602 ]\n",
            "[0.2489168 0.5163379 1.0093414]\n",
            "[0.7744387 1.6064112 3.1636903]\n",
            "\n",
            "Validation (For the first 10 rows):\n",
            "First: 0.7998, Expected Second: 1.5996, Actual Second: 1.6600\n",
            "Second: 1.6600, Expected Third: 3.3200, Actual Third: 3.2724\n",
            "\n",
            "First: 0.3765, Expected Second: 0.7529, Actual Second: 0.7654\n",
            "Second: 0.7654, Expected Third: 1.5308, Actual Third: 1.5089\n",
            "\n",
            "First: 0.4026, Expected Second: 0.8051, Actual Second: 0.8334\n",
            "Second: 0.8334, Expected Third: 1.6669, Actual Third: 1.6348\n",
            "\n",
            "First: 0.1654, Expected Second: 0.3307, Actual Second: 0.3426\n",
            "Second: 0.3426, Expected Third: 0.6853, Actual Third: 0.6740\n",
            "\n",
            "First: 0.5665, Expected Second: 1.1330, Actual Second: 1.1526\n",
            "Second: 1.1526, Expected Third: 2.3052, Actual Third: 2.2760\n",
            "\n",
            "First: 0.1494, Expected Second: 0.2988, Actual Second: 0.3152\n",
            "Second: 0.3152, Expected Third: 0.6304, Actual Third: 0.6288\n",
            "\n",
            "First: 0.8019, Expected Second: 1.6038, Actual Second: 1.6604\n",
            "Second: 1.6604, Expected Third: 3.3208, Actual Third: 3.2814\n",
            "\n",
            "First: 0.1325, Expected Second: 0.2651, Actual Second: 0.2725\n",
            "Second: 0.2725, Expected Third: 0.5449, Actual Third: 0.5380\n",
            "\n",
            "First: 0.2489, Expected Second: 0.4978, Actual Second: 0.5163\n",
            "Second: 0.5163, Expected Third: 1.0327, Actual Third: 1.0093\n",
            "\n",
            "First: 0.7744, Expected Second: 1.5489, Actual Second: 1.6064\n",
            "Second: 1.6064, Expected Third: 3.2128, Actual Third: 3.1637\n",
            "\n"
          ]
        }
      ]
    },
    {
      "cell_type": "code",
      "source": [],
      "metadata": {
        "id": "YoqwAXJrkoGw"
      },
      "execution_count": null,
      "outputs": []
    }
  ]
}